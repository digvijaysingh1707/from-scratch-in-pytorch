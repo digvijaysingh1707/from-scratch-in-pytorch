{
 "cells": [
  {
   "cell_type": "code",
   "execution_count": 1,
   "metadata": {},
   "outputs": [],
   "source": [
    "from torch_lstm import SequentialDataGenerator, CharLSTM"
   ]
  },
  {
   "cell_type": "code",
   "execution_count": 7,
   "metadata": {},
   "outputs": [],
   "source": [
    "datagen = SequentialDataGenerator(\"data/dante.txt\")"
   ]
  },
  {
   "cell_type": "code",
   "execution_count": 8,
   "metadata": {},
   "outputs": [],
   "source": [
    "# Define Hyper paramters\n",
    "num_layers = 2\n",
    "dropout_probab = 0.4\n",
    "hidden_size = 512\n",
    "\n",
    "seq_len = 100\n",
    "batch_size = 100"
   ]
  },
  {
   "cell_type": "code",
   "execution_count": 9,
   "metadata": {},
   "outputs": [],
   "source": [
    "lstm = CharLSTM(\n",
    "    input_size=datagen.vocab_size,\n",
    "    hidden_size=hidden_size,\n",
    "    num_layers=num_layers,\n",
    "    dropout=dropout_probab\n",
    ")"
   ]
  },
  {
   "cell_type": "code",
   "execution_count": 10,
   "metadata": {},
   "outputs": [
    {
     "name": "stdout",
     "output_type": "stream",
     "text": [
      "Data size: 841792; Vocab Size: 91\n"
     ]
    },
    {
     "name": "stderr",
     "output_type": "stream",
     "text": [
      "Epoch 1: 100%|██████████| 75/75 [01:00<00:00,  1.25batch/s, val_loss=3.1]         \n",
      "Epoch 2: 100%|██████████| 75/75 [00:52<00:00,  1.43batch/s, val_loss=2.57]        \n",
      "Epoch 3: 100%|██████████| 75/75 [00:54<00:00,  1.38batch/s, val_loss=2.28]        \n",
      "Epoch 4: 100%|██████████| 75/75 [00:55<00:00,  1.35batch/s, val_loss=2.12]        \n",
      "Epoch 5: 100%|██████████| 75/75 [00:57<00:00,  1.31batch/s, val_loss=2]           \n",
      "Epoch 6: 100%|██████████| 75/75 [00:54<00:00,  1.37batch/s, val_loss=1.9]         \n",
      "Epoch 7: 100%|██████████| 75/75 [00:53<00:00,  1.39batch/s, val_loss=1.82]        \n",
      "Epoch 8: 100%|██████████| 75/75 [00:54<00:00,  1.38batch/s, val_loss=1.76]        \n",
      "Epoch 9: 100%|██████████| 75/75 [00:54<00:00,  1.37batch/s, val_loss=1.7]         \n",
      "Epoch 10: 100%|██████████| 75/75 [00:54<00:00,  1.38batch/s, val_loss=1.65]        \n"
     ]
    }
   ],
   "source": [
    "lstm.train_model(\n",
    "    datagen=datagen,\n",
    "    epochs=10,\n",
    "    batch_size=batch_size,\n",
    "    seq_length=seq_len,\n",
    "    model_name=\"dante\"\n",
    ")"
   ]
  },
  {
   "cell_type": "code",
   "execution_count": 11,
   "metadata": {},
   "outputs": [],
   "source": [
    "lstm.load_model(\"saved_models/dante/epoch_10.net\")"
   ]
  },
  {
   "cell_type": "code",
   "execution_count": 13,
   "metadata": {},
   "outputs": [
    {
     "data": {
      "text/plain": [
       "'You shall in Molilen diurs, on goies ligy and the at his\\nlead turn\\nsporpuitlis, thene who shine oud berived, sould, and and I bosk as de dithine who hom?[4] Af ad I saw natwern of hyat Pradebeom Bea Ged albers so lark, who crrued, ol ye anow than far hord maked the criit of the moves tomis wond to long baskod my good be.\\n\\n\\nBe fird that the worming spoble of mise God with distunes\\njoss and has bores was\\nme, '"
      ]
     },
     "execution_count": 13,
     "metadata": {},
     "output_type": "execute_result"
    }
   ],
   "source": [
    "lstm.sample(\n",
    "    datagen,\n",
    "    400,\n",
    "    \"You shall\"\n",
    ")"
   ]
  },
  {
   "cell_type": "code",
   "execution_count": null,
   "metadata": {},
   "outputs": [],
   "source": []
  }
 ],
 "metadata": {
  "kernelspec": {
   "display_name": "Python 3.8.13 ('test-env')",
   "language": "python",
   "name": "python3"
  },
  "language_info": {
   "codemirror_mode": {
    "name": "ipython",
    "version": 3
   },
   "file_extension": ".py",
   "mimetype": "text/x-python",
   "name": "python",
   "nbconvert_exporter": "python",
   "pygments_lexer": "ipython3",
   "version": "3.8.13"
  },
  "orig_nbformat": 4,
  "vscode": {
   "interpreter": {
    "hash": "780f284e0ebdf609724e48d6015990f26a433b2d11fcba8f8b08df791d1e6f9f"
   }
  }
 },
 "nbformat": 4,
 "nbformat_minor": 2
}
