{
 "cells": [
  {
   "cell_type": "code",
   "execution_count": 2,
   "metadata": {},
   "outputs": [
    {
     "name": "stdout",
     "output_type": "stream",
     "text": [
      "Using Device: cpu\n"
     ]
    }
   ],
   "source": [
    "from char_lstm_torch import SequentialDataGenerator, CharLSTM"
   ]
  },
  {
   "cell_type": "code",
   "execution_count": 3,
   "metadata": {},
   "outputs": [],
   "source": [
    "datagen = SequentialDataGenerator(\"data/dante.txt\")"
   ]
  },
  {
   "cell_type": "code",
   "execution_count": 7,
   "metadata": {},
   "outputs": [],
   "source": [
    "# Define Hyper paramters\n",
    "num_layers = 2\n",
    "dropout_probab = 0.4\n",
    "hidden_size = 100\n",
    "\n",
    "seq_len = 100\n",
    "batch_size = 100"
   ]
  },
  {
   "cell_type": "code",
   "execution_count": 8,
   "metadata": {},
   "outputs": [],
   "source": [
    "lstm = CharLSTM(\n",
    "    input_size=datagen.vocab_size,\n",
    "    hidden_size=hidden_size,\n",
    "    num_layers=num_layers,\n",
    "    dropout=dropout_probab\n",
    ")"
   ]
  },
  {
   "cell_type": "code",
   "execution_count": 9,
   "metadata": {},
   "outputs": [
    {
     "name": "stdout",
     "output_type": "stream",
     "text": [
      "Data size: 841792; Vocab Size: 91\n"
     ]
    },
    {
     "name": "stderr",
     "output_type": "stream",
     "text": [
      "Epoch 1: 100%|██████████| 75/75 [00:12<00:00,  5.85 batch/s, loss=3.18, val_loss=3.11]\n",
      "Epoch 2: 100%|██████████| 75/75 [00:11<00:00,  6.42 batch/s, loss=3.16, val_loss=3.1]\n",
      "Epoch 3: 100%|██████████| 75/75 [00:11<00:00,  6.51 batch/s, loss=3.07, val_loss=3.01]\n",
      "Epoch 4: 100%|██████████| 75/75 [00:11<00:00,  6.42 batch/s, loss=2.76, val_loss=2.64]\n",
      "Epoch 5: 100%|██████████| 75/75 [00:11<00:00,  6.32 batch/s, loss=2.61, val_loss=2.47]\n",
      "Epoch 6: 100%|██████████| 75/75 [00:11<00:00,  6.29 batch/s, loss=2.54, val_loss=2.4]\n",
      "Epoch 7: 100%|██████████| 75/75 [00:11<00:00,  6.37 batch/s, loss=2.5, val_loss=2.35]\n",
      "Epoch 8: 100%|██████████| 75/75 [00:12<00:00,  6.20 batch/s, loss=2.46, val_loss=2.31]\n",
      "Epoch 9: 100%|██████████| 75/75 [00:11<00:00,  6.37 batch/s, loss=2.42, val_loss=2.28]\n",
      "Epoch 10: 100%|██████████| 75/75 [00:11<00:00,  6.37 batch/s, loss=2.39, val_loss=2.25]\n"
     ]
    }
   ],
   "source": [
    "lstm.train_model(\n",
    "    datagen=datagen,\n",
    "    epochs=10,\n",
    "    batch_size=batch_size,\n",
    "    seq_length=seq_len,\n",
    "    model_name=\"dante\"\n",
    ")"
   ]
  },
  {
   "cell_type": "code",
   "execution_count": 10,
   "metadata": {},
   "outputs": [],
   "source": [
    "lstm.load_model(\"saved_models/dante/epoch_10.net\")"
   ]
  },
  {
   "cell_type": "code",
   "execution_count": 11,
   "metadata": {},
   "outputs": [
    {
     "data": {
      "text/plain": [
       "'You shallces of, is. \"X1\\nT\\nar;etd wo be Fetard, nadiw vere these fave why ofero[1\\n1\\n1xAMNhet\\nSuy?\\nS Rloting thuk Boanoluthe on whon thy\\nrosfrek thu Mankuge os vil eflidbe fac widsrry Spaetoz the urkere\\nverlives the peales bomertrecish winh I law mad ir thy hos af mups athe\\ncopeeg nte margigt Povy wann ghis or hoy tho theul joml to as casaetsuamtaf,, In tos cumade thine ole, qaelgses\\n\"bot fmet the thes 7th n'"
      ]
     },
     "execution_count": 11,
     "metadata": {},
     "output_type": "execute_result"
    }
   ],
   "source": [
    "lstm.sample(\n",
    "    datagen,\n",
    "    400,\n",
    "    \"You shall\"\n",
    ")"
   ]
  },
  {
   "cell_type": "code",
   "execution_count": null,
   "metadata": {},
   "outputs": [],
   "source": []
  }
 ],
 "metadata": {
  "kernelspec": {
   "display_name": "Python 3.8.13 ('test-env')",
   "language": "python",
   "name": "python3"
  },
  "language_info": {
   "codemirror_mode": {
    "name": "ipython",
    "version": 3
   },
   "file_extension": ".py",
   "mimetype": "text/x-python",
   "name": "python",
   "nbconvert_exporter": "python",
   "pygments_lexer": "ipython3",
   "version": "3.8.13"
  },
  "orig_nbformat": 4,
  "vscode": {
   "interpreter": {
    "hash": "780f284e0ebdf609724e48d6015990f26a433b2d11fcba8f8b08df791d1e6f9f"
   }
  }
 },
 "nbformat": 4,
 "nbformat_minor": 2
}
